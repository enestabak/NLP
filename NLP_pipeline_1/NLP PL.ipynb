{
 "cells": [
  {
   "cell_type": "code",
   "execution_count": 1,
   "id": "a6f00afd",
   "metadata": {},
   "outputs": [],
   "source": [
    "import nltk\n",
    "import re\n",
    "import string\n",
    "from nltk.corpus import inaugural\n",
    "from nltk.corpus import stopwords\n",
    "from nltk.stem.porter import PorterStemmer"
   ]
  },
  {
   "cell_type": "markdown",
   "id": "80a870ab",
   "metadata": {},
   "source": [
    "## 1 - Loading the text"
   ]
  },
  {
   "cell_type": "code",
   "execution_count": 18,
   "id": "5b3b27e8",
   "metadata": {},
   "outputs": [],
   "source": [
    "# load text\n",
    "text=inaugural.raw(\"2013-obama.txt\")"
   ]
  },
  {
   "cell_type": "markdown",
   "id": "04eb00da",
   "metadata": {},
   "source": [
    "## 2 - Cleaning"
   ]
  },
  {
   "cell_type": "markdown",
   "id": "665aba2e",
   "metadata": {},
   "source": [
    "### a) Getting the punctuation"
   ]
  },
  {
   "cell_type": "code",
   "execution_count": 17,
   "id": "0e9f8a30",
   "metadata": {},
   "outputs": [
    {
     "name": "stdout",
     "output_type": "stream",
     "text": [
      "PUNCTUATION:  !\"#$%&'()*+,-./:;<=>?@[\\]^_`{|}~\n"
     ]
    }
   ],
   "source": [
    "print (\"PUNCTUATION: \", string.punctuation)"
   ]
  },
  {
   "cell_type": "markdown",
   "id": "253cf3bd",
   "metadata": {},
   "source": [
    "### b) Defining a function to use regex to strip words into tokens"
   ]
  },
  {
   "cell_type": "markdown",
   "id": "7bd4708e",
   "metadata": {},
   "source": [
    "Note that this is just one of the possible methods to tokenize. Other could be used as well and compared to get a broader view on which one would work better for a given future task."
   ]
  },
  {
   "cell_type": "code",
   "execution_count": 20,
   "id": "05ddab91",
   "metadata": {},
   "outputs": [],
   "source": [
    "# split the input on anything other than a word\n",
    "def regwords(text):\n",
    "    clean_tokens = re.split(r'\\W+', text)\n",
    "    return clean_tokens"
   ]
  },
  {
   "cell_type": "markdown",
   "id": "ab12c733",
   "metadata": {},
   "source": [
    "### c) Get the tokens"
   ]
  },
  {
   "cell_type": "code",
   "execution_count": 24,
   "id": "c64f5ce8",
   "metadata": {
    "scrolled": false
   },
   "outputs": [
    {
     "name": "stdout",
     "output_type": "stream",
     "text": [
      "This many tokens are gained: \n",
      " 2126\n"
     ]
    }
   ],
   "source": [
    "# only words with regex based function\n",
    "clean_tokens = regwords(text)\n",
    "print (\"This many tokens are gained: \\n\", len(clean_tokens))"
   ]
  },
  {
   "cell_type": "code",
   "execution_count": null,
   "id": "0c6533b3",
   "metadata": {},
   "outputs": [],
   "source": [
    "# # in case we would like to see the results:\n",
    "# print (\"Split the input by any non-alphanumeric character.:\\n\", sorted(clean_tokens))"
   ]
  },
  {
   "cell_type": "markdown",
   "id": "38f7902c",
   "metadata": {},
   "source": [
    "## 3 - Filter the stopwords out"
   ]
  },
  {
   "cell_type": "code",
   "execution_count": 25,
   "id": "3043c616",
   "metadata": {},
   "outputs": [],
   "source": [
    "# get the stop words\n",
    "stop_words = stopwords.words('english')\n",
    "\n",
    "# get the rest after filtering out the stop words\n",
    "nonstop_words = [t for t in clean_tokens if not t in stop_words]"
   ]
  },
  {
   "cell_type": "markdown",
   "id": "81dddfcd",
   "metadata": {},
   "source": [
    "## 4 - Normalization"
   ]
  },
  {
   "cell_type": "code",
   "execution_count": 26,
   "id": "feadcd61",
   "metadata": {},
   "outputs": [],
   "source": [
    "# normalization by lowering the capitals\n",
    "\n",
    "words = [word.lower() for word in nonstop_words]"
   ]
  },
  {
   "cell_type": "markdown",
   "id": "cdd96801",
   "metadata": {},
   "source": [
    "## 5 - Stemming"
   ]
  },
  {
   "cell_type": "code",
   "execution_count": 27,
   "id": "4df9583c",
   "metadata": {},
   "outputs": [],
   "source": [
    "# stemming | lemmatization\n",
    "# here we apply stemming\n",
    "\n",
    "porter = PorterStemmer()\n",
    "stemmed = [porter.stem(word) for word in words]"
   ]
  },
  {
   "cell_type": "markdown",
   "id": "62a99081",
   "metadata": {},
   "source": [
    "# Conclusion: Stemmed Tokens"
   ]
  },
  {
   "cell_type": "code",
   "execution_count": 33,
   "id": "5e06650e",
   "metadata": {},
   "outputs": [
    {
     "name": "stdout",
     "output_type": "stream",
     "text": [
      "This many stemmed tokens we have:\n",
      "  1127\n",
      "\n",
      "\n",
      "\n",
      "\n",
      "List of stemmed tokens:\n",
      "\n",
      "  ['', '1776', '200', '4', '40', '400', 'a', 'abroad', 'absolut', 'act', 'act', 'act', 'act', 'act', 'act', 'action', 'advanc', 'advanc', 'affirm', 'afford', 'africa', 'ago', 'agre', 'allegi', 'allianc', 'alon', 'alon', 'alon', 'along', 'also', 'also', 'alway', 'alway', 'america', 'america', 'america', 'america', 'america', 'america', 'america', 'america', 'america', 'american', 'american', 'american', 'american', 'american', 'american', 'american', 'american', 'american', 'americanâ', 'among', 'an', 'anchor', 'ancient', 'and', 'and', 'and', 'and', 'anew', 'anoth', 'answer', 'anybodi', 'anyon', 'appalachia', 'arm', 'articul', 'asia', 'author', 'avoid', 'away', 'awesom', 'bare', 'basic', 'battl', 'be', 'bear', 'began', 'begun', 'behalf', 'belief', 'believ', 'believ', 'believ', 'believ', 'believ', 'betray', 'better', 'biden', 'bind', 'birthright', 'bleakest', 'bless', 'bless', 'blood', 'blood', 'born', 'bound', 'boundari', 'brave', 'bridg', 'bright', 'bring', 'brink', 'broad', 'brother', 'build', 'build', 'built', 'busi', 'but', 'but', 'but', 'but', 'but', 'but', 'call', 'call', 'cannot', 'cannot', 'cannot', 'cannot', 'cannot', 'cannot', 'cap', 'capac', 'capac', 'capitol', 'care', 'care', 'care', 'care', 'care', 'carri', 'carri', 'carri', 'cast', 'cede', 'celebr', 'central', 'centuri', 'centuri', 'certain', 'challeng', 'chanc', 'chang', 'chang', 'chang', 'charact', 'chariti', 'cherish', 'chief', 'child', 'children', 'children', 'children', 'choic', 'choos', 'citizen', 'citizen', 'citizen', 'citizen', 'citizen', 'citizen', 'citizen', 'citizen', 'claim', 'class', 'climat', 'code', 'collect', 'colleg', 'color', 'command', 'commerc', 'commit', 'commit', 'common', 'common', 'common', 'commun', 'compel', 'compel', 'competit', 'complet', 'complet', 'complet', 'complet', 'complet', 'confer', 'congress', 'conscienc', 'constant', 'constant', 'constitut', 'continu', 'contour', 'corner', 'cost', 'could', 'could', 'countri', 'countri', 'countri', 'countri', 'countri', 'countri', 'countri', 'courag', 'courag', 'cours', 'creat', 'creat', 'creat', 'creator', 'creed', 'creed', 'creed', 'creed', 'creed', 'crippl', 'crise', 'crisi', 'crop', 'cure', 'danger', 'daughter', 'debat', 'debat', 'debat', 'decad', 'decis', 'declar', 'declar', 'declar', 'dedic', 'defend', 'defens', 'deficit', 'defin', 'delay', 'demand', 'demand', 'democraci', 'democraci', 'deni', 'describ', 'deserv', 'determin', 'determin', 'detroit', 'devast', 'differ', 'differ', 'differ', 'difficult', 'digniti', 'digniti', 'disabl', 'discov', 'distinguish', 'divers', 'document', 'drawn', 'drawn', 'dream', 'drive', 'drought', 'durabl', 'durat', 'duti', 'duti', 'each', 'earn', 'earth', 'earth', 'east', 'econom', 'econom', 'economi', 'effort', 'effort', 'effort', 'els', 'els', 'embrac', 'empow', 'end', 'end', 'endless', 'endow', 'endur', 'endur', 'endur', 'endur', 'enemi', 'energi', 'engag', 'engin', 'enlist', 'ensur', 'enterpris', 'entrust', 'equal', 'equal', 'equal', 'equal', 'equal', 'equal', 'equalâ', 'equip', 'ever', 'everi', 'everi', 'everi', 'everi', 'everi', 'everi', 'everi', 'evid', 'evid', 'evid', 'exactli', 'exceptionalâ', 'execut', 'execut', 'exercis', 'expel', 'extend', 'eye', 'face', 'face', 'faction', 'failur', 'fair', 'faith', 'faith', 'fall', 'famili', 'fascism', 'father', 'fear', 'fellow', 'fellow', 'fellow', 'fiction', 'fidel', 'fight', 'fill', 'find', 'find', 'fire', 'flag', 'flame', 'follow', 'footprint', 'for', 'for', 'for', 'for', 'for', 'for', 'forc', 'forc', 'forebear', 'forest', 'forev', 'forev', 'forward', 'found', 'found', 'found', 'found', 'free', 'free', 'free', 'free', 'freedom', 'freedom', 'freedom', 'freedom', 'freedom', 'freedom', 'freedom', 'friendsâ', 'futur', 'futur', 'futur', 'futur', 'gather', 'gave', 'gay', 'gener', 'gener', 'gener', 'gener', 'gener', 'gener', 'gener', 'gift', 'gift', 'girl', 'give', 'globe', 'god', 'god', 'god', 'god', 'god', 'govern', 'govern', 'govern', 'govern', 'great', 'great', 'great', 'greater', 'greatest', 'grow', 'guest', 'guid', 'guid', 'guid', 'half', 'half', 'hall', 'happi', 'happi', 'happi', 'happi', 'har', 'hard', 'hard', 'harder', 'hardship', 'harm', 'harm', 'hazard', 'he', 'health', 'hear', 'hear', 'heart', 'heir', 'henc', 'hi', 'higher', 'highway', 'hill', 'histori', 'histori', 'hold', 'home', 'honest', 'hope', 'hope', 'hope', 'hour', 'human', 'i', 'i', 'i', 'i', 'idea', 'idea', 'ideal', 'ill', 'ill', 'immigr', 'immigr', 'impact', 'imperfect', 'inadequ', 'inaugur', 'independ', 'individu', 'individu', 'industri', 'inextric', 'initi', 'initi', 'insist', 'institut', 'interest', 'invest', 'it', 'it', 'itâ', 'job', 'job', 'job', 'journey', 'journey', 'journey', 'journey', 'journey', 'journey', 'joy', 'judgment', 'justic', 'justic', 'keep', 'keep', 'king', 'king', 'know', 'know', 'know', 'know', 'know', 'know', 'know', 'knowledg', 'lab', 'labor', 'land', 'land', 'lane', 'lash', 'last', 'last', 'law', 'lawâ', 'lead', 'learn', 'learn', 'left', 'lend', 'lesson', 'lesson', 'let', 'let', 'liber', 'liberti', 'liberti', 'liberti', 'liberti', 'liberti', 'life', 'life', 'life', 'life', 'lift', 'lift', 'light', 'like', 'like', 'limitless', 'littl', 'live', 'live', 'live', 'long', 'long', 'long', 'long', 'loss', 'lost', 'love', 'lucki', 'made', 'made', 'made', 'maintain', 'make', 'make', 'make', 'make', 'make', 'make', 'make', 'make', 'make', 'mall', 'manag', 'mani', 'margin', 'market', 'math', 'matter', 'may', 'may', 'may', 'may', 'mean', 'mean', 'mean', 'mean', 'mean', 'measur', 'medicaid', 'medicar', 'meet', 'member', 'memori', 'men', 'men', 'men', 'mere', 'met', 'middl', 'middl', 'militia', 'misfortun', 'mistak', 'mob', 'modern', 'moment', 'moment', 'mother', 'move', 'mr', 'much', 'musket', 'must', 'must', 'must', 'must', 'must', 'must', 'must', 'must', 'must', 'must', 'must', 'must', 'must', 'must', 'must', 'must', 'must', 'my', 'my', 'my', 'naiv', 'name', 'name', 'nation', 'nation', 'nation', 'nation', 'nation', 'nation', 'nation', 'nation', 'nation', 'need', 'need', 'need', 'network', 'never', 'never', 'never', 'new', 'new', 'new', 'new', 'new', 'new', 'newtown', 'no', 'none', 'now', 'nowher', 'oath', 'oath', 'oath', 'oath', 'oblig', 'oblig', 'one', 'one', 'one', 'one', 'one', 'one', 'open', 'opportun', 'opportunityâ', 'origin', 'other', 'our', 'our', 'our', 'our', 'our', 'our', 'our', 'outworn', 'overwhelm', 'paid', 'parent', 'parti', 'partial', 'passion', 'past', 'path', 'path', 'patriot', 'peac', 'peac', 'peac', 'peac', 'peacefullyâ', 'peak', 'peopl', 'peopl', 'peopl', 'peopl', 'peopl', 'peopl', 'peopl', 'peopl', 'peopl', 'peopl', 'peopl', 'perpetu', 'person', 'person', 'person', 'philadelphia', 'pioneer', 'planet', 'play', 'pledg', 'pledg', 'polit', 'poor', 'possess', 'possibl', 'poster', 'poverti', 'poverti', 'power', 'power', 'power', 'power', 'preacher', 'preciou', 'precis', 'prejudiceâ', 'preserv', 'preserv', 'presid', 'presid', 'price', 'pride', 'pride', 'principl', 'principl', 'principl', 'principl', 'privileg', 'proclaim', 'program', 'progress', 'promis', 'promis', 'prosper', 'protect', 'prove', 'purpos', 'purpos', 'pursuit', 'pursuit', 'qualiti', 'quiet', 'rage', 'railroad', 'rather', 'reach', 'real', 'real', 'realiti', 'realiz', 'reason', 'recal', 'recit', 'recogn', 'recoveri', 'reduc', 'reform', 'reinvent', 'reject', 'relinquish', 'remain', 'remak', 'rememb', 'renew', 'replac', 'repres', 'republ', 'requir', 'requir', 'requir', 'requir', 'requir', 'requir', 'requir', 'requir', 'research', 'reserv', 'resili', 'resist', 'resolv', 'resolv', 'resolv', 'respond', 'respons', 'respons', 'respons', 'rest', 'revamp', 'reward', 'right', 'right', 'right', 'rise', 'risk', 'risk', 'road', 'role', 'rule', 'rule', 'rule', 'sacrific', 'safe', 'safe', 'sap', 'say', 'school', 'school', 'scienc', 'scienc', 'sear', 'secur', 'secur', 'secur', 'secur', 'see', 'seiz', 'seiz', 'self', 'self', 'self', 'selma', 'seneca', 'serv', 'servic', 'set', 'settl', 'shape', 'shore', 'shoulder', 'show', 'shrink', 'sick', 'sign', 'singl', 'singl', 'sister', 'size', 'skeptic', 'skill', 'skill', 'skin', 'slave', 'snow', 'so', 'social', 'societi', 'soldier', 'soldier', 'solemn', 'some', 'sometim', 'soul', 'sourc', 'sourc', 'spare', 'spectacl', 'speed', 'spent', 'spirit', 'spoke', 'stake', 'stand', 'star', 'state', 'state', 'steel', 'still', 'still', 'still', 'still', 'still', 'still', 'stonewal', 'storm', 'storm', 'street', 'strength', 'strength', 'strengthen', 'strive', 'strong', 'student', 'substitut', 'succeed', 'succeed', 'succumb', 'sudden', 'sung', 'support', 'sure', 'surest', 'surviv', 'suspicion', 'sustain', 'swept', 'sword', 'sworn', 'sworn', 'take', 'taken', 'taker', 'task', 'taskâ', 'tax', 'teacher', 'technolog', 'technolog', 'tell', 'temper', 'tenet', 'terribl', 'test', 'thank', 'thank', 'thank', 'that', 'that', 'that', 'that', 'that', 'that', 'the', 'the', 'the', 'the', 'they', 'they', 'they', 'thi', 'thing', 'thing', 'threat', 'thrive', 'thrive', 'through', 'through', 'time', 'time', 'time', 'time', 'time', 'time', 'time', 'time', 'time', 'time', 'timeless', 'timeâ', 'today', 'today', 'today', 'today', 'today', 'today', 'togeth', 'togeth', 'togeth', 'togeth', 'togeth', 'togeth', 'togeth', 'toler', 'toward', 'train', 'train', 'transit', 'travel', 'treasureâ', 'treat', 'treat', 'tri', 'true', 'true', 'truli', 'truth', 'truth', 'truthsâ', 'turn', 'turn', 'twilight', 'two', 'tyranni', 'ultim', 'unalien', 'uncertain', 'understand', 'understand', 'understood', 'uniform', 'union', 'unit', 'unit', 'unmatch', 'unsung', 'uphold', 'upon', 'upon', 'us', 'us', 'us', 'us', 'us', 'us', 'us', 'us', 'us', 'us', 'us', 'us', 'us', 'us', 'us', 'us', 'us', 'us', 'us', 'us', 'us', 'valu', 'valu', 'valu', 'vice', 'victim', 'victori', 'vigil', 'vital', 'voic', 'vote', 'vote', 'vow', 'vulner', 'wage', 'wait', 'walk', 'war', 'war', 'war', 'waterway', 'wave', 'way', 'way', 'we', 'we', 'we', 'we', 'we', 'we', 'we', 'we', 'we', 'we', 'we', 'we', 'we', 'we', 'we', 'we', 'we', 'we', 'we', 'we', 'we', 'we', 'we', 'welcom', 'well', 'well', 'well', 'well', 'what', 'wit', 'with', 'without', 'wive', 'women', 'women', 'word', 'word', 'word', 'word', 'work', 'work', 'work', 'work', 'worker', 'workforc', 'world', 'world', 'world', 'worst', 'would', 'would', 'year', 'year', 'year', 'year', 'year', 'you', 'you', 'young', 'youth']\n"
     ]
    }
   ],
   "source": [
    "print (\"This many stemmed tokens we have:\\n \", len(stemmed))\n",
    "print (\"\\n\\n\\n\")\n",
    "print (\"List of stemmed tokens:\\n\\n \", sorted(stemmed))\n"
   ]
  },
  {
   "cell_type": "code",
   "execution_count": 10,
   "id": "a5c50fc6",
   "metadata": {},
   "outputs": [
    {
     "name": "stdout",
     "output_type": "stream",
     "text": [
      "# vocabulary:  652\n",
      "-------------\n",
      "-------------\n",
      "Vocabulary:  ['', '1776', '200', '4', '40', '400', 'a', 'abroad', 'absolut', 'act', 'action', 'advanc', 'affirm', 'afford', 'africa', 'ago', 'agre', 'allegi', 'allianc', 'alon', 'along', 'also', 'alway', 'america', 'american', 'americanâ', 'among', 'an', 'anchor', 'ancient', 'and', 'anew', 'anoth', 'answer', 'anybodi', 'anyon', 'appalachia', 'arm', 'articul', 'asia', 'author', 'avoid', 'away', 'awesom', 'bare', 'basic', 'battl', 'be', 'bear', 'began', 'begun', 'behalf', 'belief', 'believ', 'betray', 'better', 'biden', 'bind', 'birthright', 'bleakest', 'bless', 'blood', 'born', 'bound', 'boundari', 'brave', 'bridg', 'bright', 'bring', 'brink', 'broad', 'brother', 'build', 'built', 'busi', 'but', 'call', 'cannot', 'cap', 'capac', 'capitol', 'care', 'carri', 'cast', 'cede', 'celebr', 'central', 'centuri', 'certain', 'challeng', 'chanc', 'chang', 'charact', 'chariti', 'cherish', 'chief', 'child', 'children', 'choic', 'choos', 'citizen', 'claim', 'class', 'climat', 'code', 'collect', 'colleg', 'color', 'command', 'commerc', 'commit', 'common', 'commun', 'compel', 'competit', 'complet', 'confer', 'congress', 'conscienc', 'constant', 'constitut', 'continu', 'contour', 'corner', 'cost', 'could', 'countri', 'courag', 'cours', 'creat', 'creator', 'creed', 'crippl', 'crise', 'crisi', 'crop', 'cure', 'danger', 'daughter', 'debat', 'decad', 'decis', 'declar', 'dedic', 'defend', 'defens', 'deficit', 'defin', 'delay', 'demand', 'democraci', 'deni', 'describ', 'deserv', 'determin', 'detroit', 'devast', 'differ', 'difficult', 'digniti', 'disabl', 'discov', 'distinguish', 'divers', 'document', 'drawn', 'dream', 'drive', 'drought', 'durabl', 'durat', 'duti', 'each', 'earn', 'earth', 'east', 'econom', 'economi', 'effort', 'els', 'embrac', 'empow', 'end', 'endless', 'endow', 'endur', 'enemi', 'energi', 'engag', 'engin', 'enlist', 'ensur', 'enterpris', 'entrust', 'equal', 'equalâ', 'equip', 'ever', 'everi', 'evid', 'exactli', 'exceptionalâ', 'execut', 'exercis', 'expel', 'extend', 'eye', 'face', 'faction', 'failur', 'fair', 'faith', 'fall', 'famili', 'fascism', 'father', 'fear', 'fellow', 'fiction', 'fidel', 'fight', 'fill', 'find', 'fire', 'flag', 'flame', 'follow', 'footprint', 'for', 'forc', 'forebear', 'forest', 'forev', 'forward', 'found', 'free', 'freedom', 'friendsâ', 'futur', 'gather', 'gave', 'gay', 'gener', 'gift', 'girl', 'give', 'globe', 'god', 'govern', 'great', 'greater', 'greatest', 'grow', 'guest', 'guid', 'half', 'hall', 'happi', 'har', 'hard', 'harder', 'hardship', 'harm', 'hazard', 'he', 'health', 'hear', 'heart', 'heir', 'henc', 'hi', 'higher', 'highway', 'hill', 'histori', 'hold', 'home', 'honest', 'hope', 'hour', 'human', 'i', 'idea', 'ideal', 'ill', 'immigr', 'impact', 'imperfect', 'inadequ', 'inaugur', 'independ', 'individu', 'industri', 'inextric', 'initi', 'insist', 'institut', 'interest', 'invest', 'it', 'itâ', 'job', 'journey', 'joy', 'judgment', 'justic', 'keep', 'king', 'know', 'knowledg', 'lab', 'labor', 'land', 'lane', 'lash', 'last', 'law', 'lawâ', 'lead', 'learn', 'left', 'lend', 'lesson', 'let', 'liber', 'liberti', 'life', 'lift', 'light', 'like', 'limitless', 'littl', 'live', 'long', 'loss', 'lost', 'love', 'lucki', 'made', 'maintain', 'make', 'mall', 'manag', 'mani', 'margin', 'market', 'math', 'matter', 'may', 'mean', 'measur', 'medicaid', 'medicar', 'meet', 'member', 'memori', 'men', 'mere', 'met', 'middl', 'militia', 'misfortun', 'mistak', 'mob', 'modern', 'moment', 'mother', 'move', 'mr', 'much', 'musket', 'must', 'my', 'naiv', 'name', 'nation', 'need', 'network', 'never', 'new', 'newtown', 'no', 'none', 'now', 'nowher', 'oath', 'oblig', 'one', 'open', 'opportun', 'opportunityâ', 'origin', 'other', 'our', 'outworn', 'overwhelm', 'paid', 'parent', 'parti', 'partial', 'passion', 'past', 'path', 'patriot', 'peac', 'peacefullyâ', 'peak', 'peopl', 'perpetu', 'person', 'philadelphia', 'pioneer', 'planet', 'play', 'pledg', 'polit', 'poor', 'possess', 'possibl', 'poster', 'poverti', 'power', 'preacher', 'preciou', 'precis', 'prejudiceâ', 'preserv', 'presid', 'price', 'pride', 'principl', 'privileg', 'proclaim', 'program', 'progress', 'promis', 'prosper', 'protect', 'prove', 'purpos', 'pursuit', 'qualiti', 'quiet', 'rage', 'railroad', 'rather', 'reach', 'real', 'realiti', 'realiz', 'reason', 'recal', 'recit', 'recogn', 'recoveri', 'reduc', 'reform', 'reinvent', 'reject', 'relinquish', 'remain', 'remak', 'rememb', 'renew', 'replac', 'repres', 'republ', 'requir', 'research', 'reserv', 'resili', 'resist', 'resolv', 'respond', 'respons', 'rest', 'revamp', 'reward', 'right', 'rise', 'risk', 'road', 'role', 'rule', 'sacrific', 'safe', 'sap', 'say', 'school', 'scienc', 'sear', 'secur', 'see', 'seiz', 'self', 'selma', 'seneca', 'serv', 'servic', 'set', 'settl', 'shape', 'shore', 'shoulder', 'show', 'shrink', 'sick', 'sign', 'singl', 'sister', 'size', 'skeptic', 'skill', 'skin', 'slave', 'snow', 'so', 'social', 'societi', 'soldier', 'solemn', 'some', 'sometim', 'soul', 'sourc', 'spare', 'spectacl', 'speed', 'spent', 'spirit', 'spoke', 'stake', 'stand', 'star', 'state', 'steel', 'still', 'stonewal', 'storm', 'street', 'strength', 'strengthen', 'strive', 'strong', 'student', 'substitut', 'succeed', 'succumb', 'sudden', 'sung', 'support', 'sure', 'surest', 'surviv', 'suspicion', 'sustain', 'swept', 'sword', 'sworn', 'take', 'taken', 'taker', 'task', 'taskâ', 'tax', 'teacher', 'technolog', 'tell', 'temper', 'tenet', 'terribl', 'test', 'thank', 'that', 'the', 'they', 'thi', 'thing', 'threat', 'thrive', 'through', 'time', 'timeless', 'timeâ', 'today', 'togeth', 'toler', 'toward', 'train', 'transit', 'travel', 'treasureâ', 'treat', 'tri', 'true', 'truli', 'truth', 'truthsâ', 'turn', 'twilight', 'two', 'tyranni', 'ultim', 'unalien', 'uncertain', 'understand', 'understood', 'uniform', 'union', 'unit', 'unmatch', 'unsung', 'uphold', 'upon', 'us', 'valu', 'vice', 'victim', 'victori', 'vigil', 'vital', 'voic', 'vote', 'vow', 'vulner', 'wage', 'wait', 'walk', 'war', 'waterway', 'wave', 'way', 'we', 'welcom', 'well', 'what', 'wit', 'with', 'without', 'wive', 'women', 'word', 'work', 'worker', 'workforc', 'world', 'worst', 'would', 'year', 'you', 'young', 'youth']\n"
     ]
    }
   ],
   "source": [
    "print (\"# vocabulary: \", len(set(stemmed)))\n",
    "print (\"-------------\")\n",
    "print (\"-------------\")\n",
    "print (\"Vocabulary: \", sorted(set(stemmed)))\n"
   ]
  }
 ],
 "metadata": {
  "kernelspec": {
   "display_name": "Python 3 (ipykernel)",
   "language": "python",
   "name": "python3"
  },
  "language_info": {
   "codemirror_mode": {
    "name": "ipython",
    "version": 3
   },
   "file_extension": ".py",
   "mimetype": "text/x-python",
   "name": "python",
   "nbconvert_exporter": "python",
   "pygments_lexer": "ipython3",
   "version": "3.11.3"
  }
 },
 "nbformat": 4,
 "nbformat_minor": 5
}
